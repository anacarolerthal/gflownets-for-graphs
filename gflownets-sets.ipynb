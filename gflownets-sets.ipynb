{
 "cells": [
  {
   "cell_type": "code",
   "execution_count": 742,
   "metadata": {},
   "outputs": [],
   "source": [
    "import numpy as np \n",
    "import torch \n",
    "import torch.nn as nn \n",
    "\n",
    "import pandas as pd \n",
    "from tqdm import trange \n",
    "import matplotlib.pyplot as plt "
   ]
  },
  {
   "cell_type": "code",
   "execution_count": 743,
   "metadata": {},
   "outputs": [],
   "source": [
    "device = 'cuda' if torch.cuda.is_available() else 'cpu' \n",
    "torch.set_default_device(device) \n",
    "torch.set_default_dtype(torch.float64) # Numerical stability "
   ]
  },
  {
   "cell_type": "code",
   "execution_count": 744,
   "metadata": {},
   "outputs": [],
   "source": [
    "class Set: \n",
    "\n",
    "    def __init__(self, set_size, warehouse_size, batch_size): \n",
    "        self.S = torch.zeros((batch_size, warehouse_size)) # Initially empty  \n",
    "        self.W = torch.arange(warehouse_size) # {1, 2, ..., m} \n",
    "        self.batch_size = batch_size \n",
    "        self.batch_ids = torch.arange(self.batch_size) \n",
    "        self.set_size = set_size \n",
    "        self.stopped = torch.zeros((self.batch_size,)) # Whether the generative process is finished \n",
    "\n",
    "    @torch.no_grad() \n",
    "    def apply(self, indices): \n",
    "        elements_to_add = self.W[indices] \n",
    "        self.S[self.batch_ids, elements_to_add] = 1. \n",
    "        self.stopped += (self.S.sum(dim=1) == self.set_size) \n",
    "        assert (self.S.sum(dim=1) <= self.set_size).all(), (self.S.sum(dim=1), self.set_size, self.W, self.stopped) \n",
    "        # Return an indicator of whether the generative process is finished \n",
    "        return (self.stopped <= 1.) "
   ]
  },
  {
   "cell_type": "code",
   "execution_count": 745,
   "metadata": {},
   "outputs": [],
   "source": [
    "class ForwardPolicy(nn.Module): \n",
    "    masked_value = -1e5 # To mask unwanted actions (e.g., adding an element twice)  \n",
    "    eps = .3 # For off-policy exploration \n",
    "\n",
    "    def __init__(self, warehouse_size, hidden_dim):\n",
    "        super(ForwardPolicy, self).__init__() \n",
    "        self.warehouse_size = warehouse_size \n",
    "        self.mlp = nn.Sequential(\n",
    "            nn.Linear(warehouse_size, hidden_dim), nn.LeakyReLU(), \n",
    "            nn.Linear(hidden_dim, hidden_dim), nn.LeakyReLU(), \n",
    "            nn.Linear(hidden_dim, warehouse_size)) \n",
    "    \n",
    "    def forward(self, state: Set):\n",
    "        S = state.S.clone() \n",
    "        rep = self.mlp(S) \n",
    "        # Mask the already added values \n",
    "        rep = (1 - S) * rep + S * self.masked_value \n",
    "        policy = torch.softmax(rep, dim=-1)\n",
    "\n",
    "        # Sample actions from an exploratory policy \n",
    "        eps = 0. if not self.training else self.eps # Off-policy only during training \n",
    "        unf_policy = (1 - S) / (1 - S).sum(dim=1, keepdims=True) # Uniform policy  \n",
    "        exp_policy = policy * (1 - eps) + unf_policy * eps \n",
    "        actions = torch.multinomial(exp_policy, num_samples=1, replacement=True)\n",
    "        actions = actions.squeeze() \n",
    "        \n",
    "        # Return the actions and the corresponding forward probabilities \n",
    "        return actions, torch.log(policy[state.batch_ids, actions])"
   ]
  },
  {
   "cell_type": "code",
   "execution_count": 746,
   "metadata": {},
   "outputs": [],
   "source": [
    "class BackwardPolicy(nn.Module): \n",
    "\n",
    "    def forward(self, state, actions): \n",
    "        S = state.S.clone() \n",
    "        # The backward policy is fixed as uniform \n",
    "        return - torch.log(S.sum(dim=1)) "
   ]
  },
  {
   "cell_type": "code",
   "execution_count": 747,
   "metadata": {},
   "outputs": [],
   "source": [
    "class LogReward(nn.Module): \n",
    "\n",
    "    def __init__(self, warehouse_size, seed=42, device='cuda'): \n",
    "        super(LogReward, self).__init__() \n",
    "        #g = torch.Generator(device=device) \n",
    "        #g.manual_seed(seed) \n",
    "        #self.r = torch.rand(warehouse_size, generator=g) \n",
    "        # make self.r be squared value of the index\n",
    "        self.r = torch.arange(1, warehouse_size+1, dtype=torch.float64)\n",
    "        \n",
    "\n",
    "    @torch.no_grad() \n",
    "    def forward(self, state): \n",
    "        S = state.S.clone() \n",
    "        batch_ids, indices = torch.argwhere(S == 1.).t()  \n",
    "        log_rewards = torch.zeros((state.batch_size,))\n",
    "        log_rewards.scatter_add_(dim=0, index=batch_ids, src=self.r[indices]) \n",
    "        return log_rewards / state.set_size\n",
    "\n",
    "class LogRewardRandom(nn.Module): \n",
    "\n",
    "    def __init__(self, warehouse_size, seed=42, device='cuda'): \n",
    "        super(LogReward, self).__init__() \n",
    "        g = torch.Generator(device=device) \n",
    "        g.manual_seed(seed) \n",
    "        self.r = torch.rand(warehouse_size, generator=g) \n",
    "        print(f\"LogReward: {self.r}\")\n",
    "\n",
    "    @torch.no_grad() \n",
    "    def forward(self, state): \n",
    "        S = state.S.clone() \n",
    "        batch_ids, indices = torch.argwhere(S == 1.).t()  \n",
    "        log_rewards = torch.zeros((state.batch_size,))\n",
    "        log_rewards.scatter_add_(dim=0, index=batch_ids, src=self.r[indices]) \n",
    "        return log_rewards "
   ]
  },
  {
   "cell_type": "code",
   "execution_count": null,
   "metadata": {},
   "outputs": [],
   "source": []
  },
  {
   "cell_type": "code",
   "execution_count": 748,
   "metadata": {},
   "outputs": [],
   "source": [
    "class GFlowNet(nn.Module): \n",
    "\n",
    "    def __init__(self, forward_policy, backward_policy, log_reward): \n",
    "        super(GFlowNet, self).__init__() \n",
    "        self.forward_policy = forward_policy\n",
    "        self.backward_policy = backward_policy \n",
    "        self.log_reward = log_reward \n",
    "\n",
    "        self.log_partition_function = nn.Parameter(torch.randn((1,)).squeeze(), requires_grad=True) \n",
    "            \n",
    "    def forward(self, batch_state): \n",
    "        # We could implement different losses induced by different balance conditions \n",
    "        return self._trajectory_balance(batch_state) \n",
    "\n",
    "    def _trajectory_balance(self, state): \n",
    "        loss = torch.zeros((state.batch_size,), requires_grad=True) \n",
    "\n",
    "        while (state.stopped < 1).any(): \n",
    "            # Sample an action for each batch \n",
    "            actions, forward_log_prob = self.forward_policy(state) \n",
    "        \n",
    "            # Apply the actions; the mask indicates which states are completed \n",
    "            mask = state.apply(actions) \n",
    "            \n",
    "            # Compute the backward transition probabilities \n",
    "            backward_log_prob = self.backward_policy(state, actions) \n",
    "            \n",
    "            # Update the loss \n",
    "            loss = loss + torch.where(mask, (forward_log_prob.squeeze() - backward_log_prob.squeeze()), 0.) \n",
    "\n",
    "        loss = loss + (self.log_partition_function - self.log_reward(state)) \n",
    "        return (loss * loss).mean() \n",
    "\n",
    "    @torch.no_grad() \n",
    "    def sample(self, state):\n",
    "        # Sample from the learned distribution  \n",
    "        while (state.stopped < 1).any(): \n",
    "            actions, _ = self.forward_policy(state)  \n",
    "            state.apply(actions) \n",
    "        return state   "
   ]
  },
  {
   "cell_type": "code",
   "execution_count": 749,
   "metadata": {},
   "outputs": [],
   "source": [
    "warehouse_size = 10 \n",
    "set_size = 4 \n",
    "\n",
    "log_reward = LogReward(warehouse_size, device=device) \n",
    "forward_policy = ForwardPolicy(warehouse_size=warehouse_size, hidden_dim=64) \n",
    "backward_policy = BackwardPolicy() \n",
    "gflownet = GFlowNet(forward_policy, backward_policy, log_reward) "
   ]
  },
  {
   "cell_type": "code",
   "execution_count": 750,
   "metadata": {},
   "outputs": [
    {
     "name": "stderr",
     "output_type": "stream",
     "text": [
      "100%|██████████| 2000/2000 [00:07<00:00, 282.33it/s, loss=0.0155]\n"
     ]
    }
   ],
   "source": [
    "optimizer = torch.optim.AdamW([\n",
    "    # We must use different learning rates to ensure convergence\n",
    "    {'params': gflownet.forward_policy.parameters(), 'lr': 1e-3}, \n",
    "    {'params': gflownet.log_partition_function, 'lr': 1e-1} \n",
    "]) \n",
    "\n",
    "epochs = int(2e3)\n",
    "batch_size = 256 \n",
    "\n",
    "for epoch in (pbar := trange(epochs)): \n",
    "    optimizer.zero_grad() \n",
    "    env = Set(set_size=set_size, warehouse_size=warehouse_size, batch_size=batch_size) \n",
    "    loss = gflownet(env) \n",
    "    loss.backward() \n",
    "    optimizer.step() \n",
    "    pbar.set_postfix(loss=loss.item()) \n"
   ]
  },
  {
   "cell_type": "code",
   "execution_count": 751,
   "metadata": {},
   "outputs": [
    {
     "name": "stderr",
     "output_type": "stream",
     "text": [
      "100%|██████████| 1000/1000 [00:01<00:00, 764.75it/s]\n"
     ]
    },
    {
     "data": {
      "text/plain": [
       "torch.Size([256000, 10])"
      ]
     },
     "execution_count": 751,
     "metadata": {},
     "output_type": "execute_result"
    }
   ],
   "source": [
    "gflownet.eval() \n",
    "samples = list() \n",
    "rewards = list() \n",
    "for _ in trange(int(1e3)): \n",
    "    # Sample from the learned distribution \n",
    "    env = Set(set_size, warehouse_size, batch_size) \n",
    "    env = gflownet.sample(env)\n",
    "    samples.append(env.S) \n",
    "    rewards.append(log_reward(env)) \n",
    "samples = torch.vstack(samples).cpu()  \n",
    "rewards = torch.hstack(rewards).cpu() \n",
    "samples.shape "
   ]
  },
  {
   "cell_type": "code",
   "execution_count": 753,
   "metadata": {},
   "outputs": [
    {
     "data": {
      "text/plain": [
       "Text(0.5, 1.0, 'Distribuição de amostras vs recompensas \\n Recompensas iguais ao índice')"
      ]
     },
     "execution_count": 753,
     "metadata": {},
     "output_type": "execute_result"
    },
    {
     "data": {
      "image/png": "[encoded data removed]",
      "text/plain": [
       "<Figure size 400x400 with 1 Axes>"
      ]
     },
     "metadata": {},
     "output_type": "display_data"
    }
   ],
   "source": [
    "plt.figure(figsize=(4, 4)) \n",
    "# Compute the relative frequency of each state, and compare them to the relative reward \n",
    "_, indices, counts = np.unique(samples, axis=0, return_index=True, return_counts=True) \n",
    "plt.scatter(\n",
    "    counts / counts.sum(), \n",
    "    # (rewards - torch.logsumexp(rewards)).exp() = rewards.exp() / rewards.exp().sum() = \n",
    "    # normalized rewards  \n",
    "    (rewards[indices] - torch.logsumexp(rewards[indices], dim=0)).exp() \n",
    ")  \n",
    "plt.xlabel('Distribuição aprendida') \n",
    "plt.ylabel('Distribuição esperada') \n",
    "plt.title('Distribuição de amostras vs recompensas \\n Recompensas iguais ao índice')"
   ]
  },
  {
   "cell_type": "code",
   "execution_count": 754,
   "metadata": {},
   "outputs": [
    {
     "data": {
      "image/png": "[encoded data removed]",
      "text/plain": [
       "<Figure size 640x480 with 1 Axes>"
      ]
     },
     "metadata": {},
     "output_type": "display_data"
    }
   ],
   "source": [
    "# make a histogram of the rewards\n",
    "plt.hist(rewards, bins=100)\n",
    "plt.show()"
   ]
  },
  {
   "cell_type": "code",
   "execution_count": 759,
   "metadata": {},
   "outputs": [
    {
     "data": {
      "text/plain": [
       "array([ 41490.,  50713.,  62251.,  75265.,  91211., 107278., 123344.,\n",
       "       141615., 157086., 173747.])"
      ]
     },
     "execution_count": 759,
     "metadata": {},
     "output_type": "execute_result"
    }
   ],
   "source": [
    "warehouse_array = np.zeros(warehouse_size)\n",
    "for sample in samples:\n",
    "    warehouse_array += sample.numpy()\n",
    "\n",
    "warehouse_array"
   ]
  },
  {
   "cell_type": "code",
   "execution_count": 780,
   "metadata": {},
   "outputs": [
    {
     "data": {
      "text/plain": [
       "Text(0, 0.5, 'Frequência')"
      ]
     },
     "execution_count": 780,
     "metadata": {},
     "output_type": "execute_result"
    },
    {
     "data": {
      "image/png": "[encoded data removed]",
      "text/plain": [
       "<Figure size 600x300 with 1 Axes>"
      ]
     },
     "metadata": {},
     "output_type": "display_data"
    }
   ],
   "source": [
    "# make a histogram of the warehouse array\n",
    "plt.figure(figsize=(6, 3))\n",
    "plt.bar(np.arange(1, warehouse_size+1), warehouse_array/175000)\n",
    "plt.title('Histograma da frequência de item em amostras')\n",
    "plt.xlabel('Item')\n",
    "plt.ylabel('Frequência')"
   ]
  },
  {
   "cell_type": "code",
   "execution_count": 761,
   "metadata": {},
   "outputs": [
    {
     "data": {
      "text/plain": [
       "<BarContainer object of 10 artists>"
      ]
     },
     "execution_count": 761,
     "metadata": {},
     "output_type": "execute_result"
    },
    {
     "data": {
      "image/png": "[encoded data removed]",
      "text/plain": [
       "<Figure size 640x480 with 1 Axes>"
      ]
     },
     "metadata": {},
     "output_type": "display_data"
    }
   ],
   "source": [
    "# plotar reward esperado\n",
    "plt.figure()\n",
    "plt.bar(np.arange(1, warehouse_size+1), log_reward.r.numpy())"
   ]
  },
  {
   "cell_type": "code",
   "execution_count": null,
   "metadata": {},
   "outputs": [],
   "source": []
  }
 ],
 "metadata": {
  "kernelspec": {
   "display_name": "torch",
   "language": "python",
   "name": "python3"
  },
  "language_info": {
   "codemirror_mode": {
    "name": "ipython",
    "version": 3
   },
   "file_extension": ".py",
   "mimetype": "text/x-python",
   "name": "python",
   "nbconvert_exporter": "python",
   "pygments_lexer": "ipython3",
   "version": "3.12.1"
  },
  "orig_nbformat": 4
 },
 "nbformat": 4,
 "nbformat_minor": 2
}
