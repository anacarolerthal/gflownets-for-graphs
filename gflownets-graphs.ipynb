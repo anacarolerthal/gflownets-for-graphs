{
 "cells": [
  {
   "cell_type": "code",
   "execution_count": 903,
   "metadata": {},
   "outputs": [],
   "source": [
    "import numpy as np \n",
    "import torch \n",
    "import torch.nn as nn \n",
    "import networkx as nx\n",
    "import matplotlib.pyplot as plt\n",
    "import pandas as pd \n",
    "from tqdm import trange \n"
   ]
  },
  {
   "cell_type": "code",
   "execution_count": 904,
   "metadata": {},
   "outputs": [
    {
     "data": {
      "text/plain": [
       "'cpu'"
      ]
     },
     "execution_count": 904,
     "metadata": {},
     "output_type": "execute_result"
    }
   ],
   "source": [
    "device = 'cpu' \n",
    "torch.set_default_device(device) \n",
    "torch.set_default_dtype(torch.float64) # Numerical stability \\\n",
    "device"
   ]
  },
  {
   "cell_type": "code",
   "execution_count": 905,
   "metadata": {},
   "outputs": [],
   "source": [
    "class Graph: \n",
    "    \n",
    "    def __init__(self, max_edges, num_nodes, batch_size): \n",
    "        self.num_nodes = num_nodes \n",
    "        self.S = torch.zeros((batch_size, self.num_nodes, self.num_nodes)) # adjacency matrix (batch_size, n, n)\n",
    "        self.batch_size = batch_size \n",
    "        self.batch_ids = torch.arange(self.batch_size) \n",
    "        self.max_edges = max_edges # Maximum number of edges in the graph\n",
    "        self.stopped = torch.zeros((self.batch_size,)) # Whether the generative process is finished \n",
    "        self.global_stop = False  # Global stopping flag\n",
    "        \n",
    "        self.actions = torch.triu_indices(self.num_nodes, self.num_nodes, offset=1).t()  \n",
    "        \n",
    "        self.mask = torch.zeros((self.batch_size, len(self.actions) + 1)) \n",
    "        \n",
    "    @torch.no_grad() \n",
    "    def apply(self, indices): \n",
    "        for i in range(self.batch_size):\n",
    "            if not self.stopped[i]:\n",
    "                action_id = indices[i] \n",
    "                if action_id == len(self.actions):  # Handle stop action\n",
    "                    self.stopped[i] = 1\n",
    "                    continue \n",
    "                \n",
    "                self.S[i, self.actions[action_id][0], self.actions[action_id][1]] = 1\n",
    "                self.S[i, self.actions[action_id][1], self.actions[action_id][0]] = 1\n",
    "\n",
    "        num_edges = self.S.sum(dim=(1, 2)) / 2 \n",
    "        self.mask[:, :-1] = (\n",
    "            self.S[:, self.actions[:, 0], self.actions[:, 1]] == 1  \n",
    "        ) | (self.stopped.view(-1, 1) == 1) | (num_edges >= self.max_edges).view(-1, 1)    \n",
    "        self.mask = self.mask.float() \n",
    "        \n",
    "        # self.global_stop = self.stopped.all()\n",
    "        # if self.global_stop:\n",
    "        #     print(\"Global stop\")\n",
    "        \n",
    "        return 1 - self.stopped "
   ]
  },
  {
   "cell_type": "code",
   "execution_count": 906,
   "metadata": {},
   "outputs": [],
   "source": [
    "class ForwardPolicy(nn.Module): \n",
    "    masked_value = -1e5 # To mask unwanted actions (e.g., adding an edge twice)  \n",
    "    eps = .3 # For off-policy exploration \n",
    "\n",
    "    def __init__(self, num_nodes, hidden_dim):\n",
    "        super(ForwardPolicy, self).__init__() \n",
    "        self.num_nodes = num_nodes \n",
    "        self.mlp = nn.Sequential(\n",
    "            nn.Linear((num_nodes) * (num_nodes), hidden_dim), nn.LeakyReLU(), \n",
    "            nn.Linear(hidden_dim, hidden_dim), nn.LeakyReLU(), \n",
    "            # undirected graphs \n",
    "            nn.Linear(hidden_dim, ((num_nodes) * (num_nodes - 1)) // 2 + 1))  # +1 for stop action\n",
    "    \n",
    "    def forward(self, state: Graph):\n",
    "        S = state.S.clone().view(state.batch_size, -1) \n",
    "        rep = self.mlp(S) \n",
    "        # Mask the already added values \n",
    "\n",
    "        mask = state.mask \n",
    "        policy = torch.softmax(rep * (1 - mask) + mask * self.masked_value, dim=-1)\n",
    "\n",
    "        # Sample actions from an exploratory policy \n",
    "        eps = 0. if not self.training else self.eps # off-policy only during training \n",
    "        \n",
    "        unf_policy = (1 - mask) / (1 - mask).sum(dim=1, keepdim=True)  \n",
    "        exp_policy = policy * (1 - eps) + unf_policy * eps  # exploratory policy\n",
    "        actions = torch.multinomial(exp_policy, num_samples=1, replacement=True)\n",
    "        actions = actions.squeeze(dim=-1) \n",
    "        \n",
    "        return actions, torch.log(policy[state.batch_ids, actions])\n",
    "\n",
    "class BackwardPolicy(nn.Module): \n",
    "\n",
    "    def forward(self, state, actions): \n",
    "        S = state.S.clone().view(state.batch_size, -1)\n",
    "        # The backward policy is fixed as uniform \n",
    "        num_edges = (S.sum(dim=1) / 2).int()\n",
    "        return - torch.log(num_edges) "
   ]
  },
  {
   "cell_type": "code",
   "execution_count": 907,
   "metadata": {},
   "outputs": [],
   "source": [
    "# # # funcional +-\n",
    "class LogReward(nn.Module):\n",
    "    def __init__(self, max_edges, seed=42, device='cpu'):\n",
    "        super(LogReward, self).__init__()\n",
    "        self.device = device\n",
    "        self.max_edges = max_edges\n",
    "\n",
    "    @torch.no_grad()\n",
    "    def forward(self, state):\n",
    "        S = state.S.clone()\n",
    "        num_edges = (S.sum(dim=(1, 2)) / 2).int()\n",
    "        return num_edges / self.max_edges\n",
    "\n",
    "\n",
    "# # NOVA VERSAO DE REWARD\n",
    "# # REWARD É O GRAU MÉDIO DOS VÉRTICES\n",
    "# class LogReward(nn.Module):\n",
    "#     def __init__(self, max_edges, seed=42, device='cpu'):\n",
    "#         super(LogReward, self).__init__()\n",
    "#         self.device = device\n",
    "#         self.max_edges = max_edges\n",
    "\n",
    "#     @torch.no_grad()\n",
    "#     def forward(self, state):\n",
    "#         S = state.S.clone()\n",
    "#         # Grau medio de cada grafo (soma do grau de cada vertice / numero de vertices)\n",
    "#         num_edges = S.sum(dim=(1, 2))\n",
    "#         num_nodes = S.shape[1]\n",
    "#         # grau medio\n",
    "#         avg_degree = num_edges / num_nodes\n",
    "#         return - avg_degree.to(self.device)"
   ]
  },
  {
   "cell_type": "code",
   "execution_count": 908,
   "metadata": {},
   "outputs": [],
   "source": [
    "class GFlowNet(nn.Module): \n",
    "\n",
    "    def __init__(self, forward_policy, backward_policy, log_reward): \n",
    "        super(GFlowNet, self).__init__() \n",
    "        self.forward_policy = forward_policy\n",
    "        self.backward_policy = backward_policy \n",
    "        self.log_reward = log_reward \n",
    "\n",
    "        self.log_partition_function = nn.Parameter(torch.randn((1,)).squeeze(), requires_grad=True) \n",
    "            \n",
    "    def forward(self, batch_state): \n",
    "        # We could implement different losses induced by different balance conditions \n",
    "        return self._trajectory_balance(batch_state) \n",
    "\n",
    "    def _trajectory_balance(self, state): \n",
    "        loss = torch.zeros((state.batch_size,),) \n",
    "\n",
    "        while (state.stopped < 1).any(): \n",
    "            # Sample an action for each batch             \n",
    "            actions, forward_log_prob = self.forward_policy(state) \n",
    "            \n",
    "            # Apply the actions; the mask indicates which states are completed \n",
    "            state.apply(actions) \n",
    "            \n",
    "            # Compute the backward transition probabilities \n",
    "            backward_log_prob = self.backward_policy(state, actions) \n",
    "            \n",
    "            # Update the loss \n",
    "            stopped = state.stopped == 1\n",
    "            loss[~stopped] = (forward_log_prob.squeeze() - backward_log_prob.squeeze())[~stopped] \n",
    "\n",
    "        loss = loss + (self.log_partition_function - self.log_reward(state)) \n",
    "        return (loss * loss).mean()\n",
    "\n",
    "    @torch.no_grad()\n",
    "    def sample(self, state):\n",
    "        while (state.stopped < 1).any():\n",
    "            actions, _ = self.forward_policy(state)\n",
    "            state.apply(actions)\n",
    "        return state"
   ]
  },
  {
   "cell_type": "code",
   "execution_count": 909,
   "metadata": {},
   "outputs": [
    {
     "name": "stderr",
     "output_type": "stream",
     "text": [
      "100%|██████████| 1000/1000 [00:15<00:00, 66.23it/s, loss=0.0626]\n"
     ]
    }
   ],
   "source": [
    "num_nodes = 5 \n",
    "max_edges = 5\n",
    "\n",
    "log_reward = LogReward(max_edges)\n",
    "forward_policy = ForwardPolicy(num_nodes=num_nodes, hidden_dim=64)\n",
    "backward_policy = BackwardPolicy()\n",
    "gflownet = GFlowNet(forward_policy, backward_policy, log_reward)\n",
    "\n",
    "optimizer = torch.optim.Adam([\n",
    "    # We must use different learning rates to ensure convergence\n",
    "    {'params': gflownet.forward_policy.parameters(), 'lr': 1e-3}, \n",
    "    {'params': gflownet.log_partition_function, 'lr': 1e-1} \n",
    "]) \n",
    "\n",
    "epochs = 1000\n",
    "batch_size = 128 \n",
    "losses = []\n",
    "\n",
    "for epoch in (pbar := trange(epochs)): \n",
    "    optimizer.zero_grad() \n",
    "    env = Graph(max_edges=max_edges, num_nodes=num_nodes, batch_size=batch_size) \n",
    "    loss = gflownet(env) \n",
    "    losses.append(loss.item())\n",
    "    loss.backward() \n",
    "    optimizer.step() \n",
    "    pbar.set_postfix(loss=loss.item())\n"
   ]
  },
  {
   "cell_type": "code",
   "execution_count": 910,
   "metadata": {},
   "outputs": [
    {
     "data": {
      "text/plain": [
       "[<matplotlib.lines.Line2D at 0x2b847d760>]"
      ]
     },
     "execution_count": 910,
     "metadata": {},
     "output_type": "execute_result"
    },
    {
     "data": {
      "image/png": "[encoded data removed]",
      "text/plain": [
       "<Figure size 640x480 with 1 Axes>"
      ]
     },
     "metadata": {},
     "output_type": "display_data"
    }
   ],
   "source": [
    "# plot the loss\n",
    "plt.plot(losses)"
   ]
  },
  {
   "cell_type": "code",
   "execution_count": 911,
   "metadata": {},
   "outputs": [
    {
     "name": "stderr",
     "output_type": "stream",
     "text": [
      "100%|██████████| 3000/3000 [00:37<00:00, 79.19it/s]\n"
     ]
    },
    {
     "data": {
      "text/plain": [
       "torch.Size([384000, 5, 5])"
      ]
     },
     "execution_count": 911,
     "metadata": {},
     "output_type": "execute_result"
    }
   ],
   "source": [
    "gflownet.eval() \n",
    "samples = list() \n",
    "rewards = list() \n",
    "for _ in trange(int(3000)): \n",
    "    # Sample from the learned distribution \n",
    "    env = Graph(max_edges, num_nodes, batch_size) \n",
    "    env = gflownet.sample(env)\n",
    "    samples.append(env.S) \n",
    "    rewards.append(log_reward(env)) \n",
    "\n",
    "samples = torch.cat(samples).cpu()  # Use torch.cat instead of torch.vstack\n",
    "rewards = torch.cat(rewards).cpu()  # Use torch.cat instead of torch.hstack\n",
    "samples.shape"
   ]
  },
  {
   "cell_type": "code",
   "execution_count": 912,
   "metadata": {},
   "outputs": [
    {
     "data": {
      "text/plain": [
       "Text(0, 0.5, 'Frequência nas amostras')"
      ]
     },
     "execution_count": 912,
     "metadata": {},
     "output_type": "execute_result"
    },
    {
     "data": {
      "image/png": "[encoded data removed]",
      "text/plain": [
       "<Figure size 600x300 with 1 Axes>"
      ]
     },
     "metadata": {},
     "output_type": "display_data"
    }
   ],
   "source": [
    "samples_int = samples.int()\n",
    "samples_np = samples_int.numpy()\n",
    "plt.figure(figsize=(6, 3))\n",
    "plt.hist(samples_np.sum(axis=(1, 2)) / 2, bins=range(1, max_edges + 2))\n",
    "plt.title('Frequência do número de arestas nos grafos gerados')\n",
    "plt.xlabel('Número de arestas')   \n",
    "plt.ylabel('Frequência nas amostras')"
   ]
  },
  {
   "cell_type": "code",
   "execution_count": 938,
   "metadata": {},
   "outputs": [
    {
     "name": "stdout",
     "output_type": "stream",
     "text": [
      "Number of unique graphs with 5 edges: 252\n",
      "Number of graphs with 5 edges: 185058\n",
      "Mean number of occurrences of each unique graph: 734.3571428571429\n"
     ]
    }
   ],
   "source": [
    "# count how many different matrices we have in samples_np that sum to 5 edges\n",
    "samples_np_5_edges = samples_np[samples_np.sum(axis=(1, 2)) / 2 == 5]\n",
    "# count unique graphs\n",
    "unique_graphs = np.unique(samples_np_5_edges, axis=0)\n",
    "print('Number of unique graphs with 5 edges:', unique_graphs.shape[0])\n",
    "print('Number of graphs with 5 edges:', samples_np_5_edges.shape[0])\n",
    "\n",
    "print('Mean number of occurrences of each unique graph:', samples_np_5_edges.shape[0] / unique_graphs.shape[0])"
   ]
  },
  {
   "cell_type": "code",
   "execution_count": 939,
   "metadata": {},
   "outputs": [
    {
     "data": {
      "text/plain": [
       "array([771, 726, 739, 741, 717, 681, 736, 749, 754, 750, 744, 749, 725,\n",
       "       700, 730, 747, 817, 790, 720, 748, 770, 683, 707, 669, 719, 696,\n",
       "       749, 693, 703, 689, 717, 752, 764, 680, 712, 735, 681, 720, 723,\n",
       "       734, 746, 779, 748, 724, 763, 761, 680, 737, 698, 696, 653, 675,\n",
       "       747, 761, 781, 674, 738, 665, 726, 738, 694, 735, 654, 685, 670,\n",
       "       734, 787, 726, 768, 675, 724, 750, 685, 755, 706, 774, 806, 748,\n",
       "       769, 757, 744, 760, 804, 721, 769, 768, 698, 773, 742, 820, 793,\n",
       "       717, 657, 685, 686, 714, 780, 756, 761, 714, 745, 693, 706, 675,\n",
       "       655, 673, 681, 749, 757, 721, 710, 740, 726, 750, 708, 727, 706,\n",
       "       752, 698, 804, 780, 735, 706, 772, 754, 805, 694, 721, 701, 715,\n",
       "       749, 752, 762, 735, 688, 700, 778, 736, 703, 715, 716, 740, 721,\n",
       "       750, 781, 796, 807, 743, 788, 778, 835, 744, 747, 740, 734, 721,\n",
       "       742, 751, 780, 814, 796, 654, 692, 667, 684, 738, 687, 739, 726,\n",
       "       712, 694, 716, 722, 672, 698, 696, 719, 757, 750, 730, 731, 731,\n",
       "       761, 722, 748, 759, 711, 728, 734, 760, 777, 767, 700, 748, 733,\n",
       "       734, 705, 691, 702, 729, 732, 743, 744, 748, 801, 733, 742, 727,\n",
       "       681, 729, 697, 717, 759, 732, 766, 728, 762, 764, 764, 750, 740,\n",
       "       771, 839, 782, 806, 763, 750, 761, 817, 778, 843, 654, 693, 702,\n",
       "       702, 746, 657, 688, 706, 762, 749, 696, 699, 727, 731, 738, 763,\n",
       "       791, 754, 781, 785, 756])"
      ]
     },
     "execution_count": 939,
     "metadata": {},
     "output_type": "execute_result"
    }
   ],
   "source": [
    "count5 = []\n",
    "for graph in unique_graphs:\n",
    "    # count how many times this graph appears in the samples_np_5_edges\n",
    "    count5.append((samples_np_5_edges == graph).all(axis=(1, 2)).sum())\n",
    "count5 = np.array(count5)\n",
    "count5"
   ]
  },
  {
   "cell_type": "code",
   "execution_count": 940,
   "metadata": {},
   "outputs": [
    {
     "name": "stdout",
     "output_type": "stream",
     "text": [
      "Number of unique graphs with 4 edges: 210\n",
      "Number of graphs with 4 edges: 100268\n",
      "Mean number of occurrences of each unique graph: 477.46666666666664\n"
     ]
    }
   ],
   "source": [
    "# count how many different matrices we have in samples_np that sum to 4 edges\n",
    "samples_np_4_edges = samples_np[samples_np.sum(axis=(1, 2)) / 2 == 4]\n",
    "# count unique graphs\n",
    "unique_graphs = np.unique(samples_np_4_edges, axis=0)\n",
    "print('Number of unique graphs with 4 edges:', unique_graphs.shape[0])\n",
    "print('Number of graphs with 4 edges:', samples_np_4_edges.shape[0])\n",
    "\n",
    "print('Mean number of occurrences of each unique graph:', samples_np_4_edges.shape[0] / unique_graphs.shape[0])"
   ]
  },
  {
   "cell_type": "code",
   "execution_count": 941,
   "metadata": {},
   "outputs": [
    {
     "data": {
      "text/plain": [
       "array([433, 455, 451, 465, 453, 469, 448, 449, 438, 490, 518, 450, 463,\n",
       "       439, 468, 530, 490, 497, 466, 523, 551, 486, 481, 519, 462, 488,\n",
       "       527, 447, 491, 470, 511, 516, 550, 556, 507, 442, 425, 446, 449,\n",
       "       467, 477, 440, 473, 430, 479, 389, 469, 442, 427, 413, 474, 457,\n",
       "       448, 480, 442, 431, 482, 454, 444, 465, 470, 522, 484, 528, 491,\n",
       "       523, 486, 497, 474, 466, 452, 491, 471, 448, 499, 454, 495, 495,\n",
       "       467, 485, 478, 466, 462, 457, 444, 441, 523, 489, 459, 466, 486,\n",
       "       531, 525, 453, 485, 486, 539, 539, 474, 501, 524, 464, 516, 534,\n",
       "       551, 449, 426, 445, 476, 411, 445, 474, 424, 484, 488, 468, 448,\n",
       "       438, 405, 507, 461, 494, 471, 470, 513, 452, 462, 459, 446, 440,\n",
       "       467, 514, 494, 483, 476, 471, 482, 504, 450, 475, 444, 418, 531,\n",
       "       502, 496, 500, 502, 530, 486, 470, 473, 468, 559, 497, 578, 491,\n",
       "       495, 501, 466, 466, 526, 417, 419, 439, 449, 447, 408, 484, 459,\n",
       "       473, 511, 466, 466, 452, 443, 465, 469, 453, 504, 513, 519, 490,\n",
       "       424, 474, 476, 443, 448, 503, 508, 468, 502, 547, 500, 466, 465,\n",
       "       466, 518, 462, 544, 534, 511, 534, 519, 462, 469, 462, 447, 525,\n",
       "       476, 505])"
      ]
     },
     "execution_count": 941,
     "metadata": {},
     "output_type": "execute_result"
    }
   ],
   "source": [
    "count4 = []\n",
    "for graph in unique_graphs:\n",
    "    # count how many times this graph appears in the samples_np_5_edges\n",
    "    count4.append((samples_np_4_edges == graph).all(axis=(1, 2)).sum())\n",
    "count4 = np.array(count4)\n",
    "count4"
   ]
  },
  {
   "cell_type": "code",
   "execution_count": 965,
   "metadata": {},
   "outputs": [
    {
     "data": {
      "image/png": "[encoded data removed]",
      "text/plain": [
       "<Figure size 600x300 with 1 Axes>"
      ]
     },
     "metadata": {},
     "output_type": "display_data"
    }
   ],
   "source": [
    "# disperse the points a little bit \n",
    "plt.figure(figsize=(6, 3))\n",
    "plt.boxplot([count4, count5], labels=['4', '5'], vert=False, widths=0.4)\n",
    "plt.scatter(count4, np.ones_like(count4) * 1, alpha=0.2)\n",
    "plt.scatter(count5, np.ones_like(count5) * 2, alpha=0.2)\n",
    "plt.title('Ocorrências de cada grafo único por número de arestas')\n",
    "plt.xlabel('Número de ocorrências')\n",
    "plt.ylabel('Número de arestas')\n",
    "plt.show()"
   ]
  },
  {
   "cell_type": "code",
   "execution_count": 921,
   "metadata": {},
   "outputs": [
    {
     "name": "stdout",
     "output_type": "stream",
     "text": [
      "5.0\n",
      "4.0\n"
     ]
    }
   ],
   "source": [
    "# samples_np = samples_int.numpy()\n",
    "samples_np = samples_int.numpy()\n",
    "\n",
    "# count number of edges in samples_np[0]\n",
    "print(np.sum(samples_np[3]) / 2)\n",
    "print(np.sum(samples_np[7]) / 2)"
   ]
  },
  {
   "cell_type": "code",
   "execution_count": 925,
   "metadata": {},
   "outputs": [
    {
     "data": {
      "text/plain": [
       "654"
      ]
     },
     "execution_count": 925,
     "metadata": {},
     "output_type": "execute_result"
    }
   ],
   "source": [
    "np.sum(np.all(samples_np == samples_np[3], axis=(1, 2)))"
   ]
  },
  {
   "cell_type": "code",
   "execution_count": 927,
   "metadata": {},
   "outputs": [],
   "source": [
    "# check how many samples in samples_np are exaclty the same as samples_np[0]\n",
    "n_samples_1 = np.sum(np.all(samples_np == samples_np[0], axis=(1, 2)))\n",
    "n_samples_2 = np.sum(np.all(samples_np == samples_np[7], axis=(1, 2)))"
   ]
  }
 ],
 "metadata": {
  "kernelspec": {
   "display_name": "torch",
   "language": "python",
   "name": "python3"
  },
  "language_info": {
   "codemirror_mode": {
    "name": "ipython",
    "version": 3
   },
   "file_extension": ".py",
   "mimetype": "text/x-python",
   "name": "python",
   "nbconvert_exporter": "python",
   "pygments_lexer": "ipython3",
   "version": "3.12.1"
  },
  "orig_nbformat": 4
 },
 "nbformat": 4,
 "nbformat_minor": 2
}
