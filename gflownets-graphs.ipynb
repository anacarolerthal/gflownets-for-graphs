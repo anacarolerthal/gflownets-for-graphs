{
 "cells": [
  {
   "cell_type": "code",
   "execution_count": 31,
   "metadata": {},
   "outputs": [],
   "source": [
    "import numpy as np \n",
    "import torch \n",
    "import torch.nn as nn \n",
    "import networkx as nx\n",
    "import matplotlib.pyplot as plt\n",
    "import pandas as pd \n",
    "from tqdm import trange \n",
    "from scipy.sparse.csgraph import connected_components"
   ]
  },
  {
   "cell_type": "code",
   "execution_count": 32,
   "metadata": {},
   "outputs": [],
   "source": [
    "device = 'cuda' if torch.cuda.is_available() else 'cpu' \n",
    "torch.set_default_device(device) \n",
    "torch.set_default_dtype(torch.float64) # Numerical stability "
   ]
  },
  {
   "cell_type": "code",
   "execution_count": 33,
   "metadata": {},
   "outputs": [],
   "source": [
    "class Graph: \n",
    "    \n",
    "    def __init__(self, max_edges, warehouse_size, batch_size): \n",
    "        self.num_nodes = warehouse_size \n",
    "        self.S = torch.zeros((batch_size, warehouse_size, warehouse_size)) # adjacency matrix (batch_size, n, n)\n",
    "        self.batch_size = batch_size \n",
    "        self.batch_ids = torch.arange(self.batch_size) \n",
    "        self.max_edges = max_edges # Maximum number of edges in the graph\n",
    "        self.stopped = torch.zeros((self.batch_size,)) # Whether the generative process is finished \n",
    "        self.global_stop = False  # Global stopping flag\n",
    "        \n",
    "        self.actions = torch.triu_indices(self.num_nodes, self.num_nodes, offset=1).t()  \n",
    "        \n",
    "        self.mask = torch.zeros((self.batch_size, len(self.actions) + 1)) \n",
    "        \n",
    "    @torch.no_grad() \n",
    "    def apply(self, indices): \n",
    "        for i in range(self.batch_size):\n",
    "            if not self.stopped[i]:\n",
    "                action_id = indices[i] \n",
    "                if action_id == len(self.actions):  # Handle stop action\n",
    "                    self.stopped[i] = 1\n",
    "                    continue \n",
    "                \n",
    "                self.S[i, self.actions[action_id][0], self.actions[action_id][1]] = 1\n",
    "                self.S[i, self.actions[action_id][1], self.actions[action_id][0]] = 1\n",
    "\n",
    "        num_edges = self.S.sum(dim=(1, 2)) / 2 \n",
    "        self.mask[:, :-1] = (\n",
    "            self.S[:, self.actions[:, 0], self.actions[:, 1]] == 1  \n",
    "        ) | (self.stopped.view(-1, 1) == 1) | (num_edges >= self.max_edges).view(-1, 1)    \n",
    "        self.mask = self.mask.float() \n",
    "        \n",
    "        # self.global_stop = self.stopped.all()\n",
    "        # if self.global_stop:\n",
    "        #     print(\"Global stop\")\n",
    "        \n",
    "        return 1 - self.stopped "
   ]
  },
  {
   "cell_type": "code",
   "execution_count": 34,
   "metadata": {},
   "outputs": [],
   "source": [
    "class ForwardPolicy(nn.Module): \n",
    "    masked_value = -1e5 # To mask unwanted actions (e.g., adding an edge twice)  \n",
    "    eps = .3 # For off-policy exploration \n",
    "\n",
    "    def __init__(self, warehouse_size, hidden_dim):\n",
    "        super(ForwardPolicy, self).__init__() \n",
    "        self.warehouse_size = warehouse_size \n",
    "        self.mlp = nn.Sequential(\n",
    "            nn.Linear((warehouse_size) * (warehouse_size), hidden_dim), nn.LeakyReLU(), \n",
    "            nn.Linear(hidden_dim, hidden_dim), nn.LeakyReLU(), \n",
    "            # undirected graphs \n",
    "            nn.Linear(hidden_dim, ((warehouse_size) * (warehouse_size - 1)) // 2 + 1))  # +1 for stop action\n",
    "    \n",
    "    def forward(self, state: Graph):\n",
    "        S = state.S.clone().view(state.batch_size, -1) \n",
    "        rep = self.mlp(S) \n",
    "        # Mask the already added values \n",
    "\n",
    "        mask = state.mask \n",
    "        policy = torch.softmax(rep * (1 - mask) + mask * self.masked_value, dim=-1)\n",
    "\n",
    "        # Sample actions from an exploratory policy \n",
    "        eps = 0. if not self.training else self.eps # off-policy only during training \n",
    "        \n",
    "        unf_policy = (1 - mask) / (1 - mask).sum(dim=1, keepdim=True)  \n",
    "        exp_policy = policy * (1 - eps) + unf_policy * eps  # exploratory policy\n",
    "        actions = torch.multinomial(exp_policy, num_samples=1, replacement=True)\n",
    "        actions = actions.squeeze(dim=-1) \n",
    "        \n",
    "        return actions, torch.log(policy[state.batch_ids, actions])\n",
    "\n",
    "class BackwardPolicy(nn.Module): \n",
    "\n",
    "    def forward(self, state, actions): \n",
    "        S = state.S.clone().view(state.batch_size, -1)\n",
    "        # The backward policy is fixed as uniform \n",
    "        num_edges = (S.sum(dim=1) / 2).int()\n",
    "        return - torch.log(num_edges) "
   ]
  },
  {
   "cell_type": "code",
   "execution_count": 47,
   "metadata": {},
   "outputs": [],
   "source": [
    "class LogReward(nn.Module):\n",
    "    def __init__(self, warehouse_size, max_edges, seed=42, device='cpu'):\n",
    "        super(LogReward, self).__init__()\n",
    "        self.device = device\n",
    "        self.max_edges = max_edges\n",
    "        self.rewards = torch.log(torch.arange(1, max_edges + 2, device=self.device).float())\n",
    "\n",
    "    @torch.no_grad()\n",
    "    def forward(self, state):\n",
    "        S = state.S.clone()\n",
    "        num_edges = (S.sum(dim=(1, 2)) / 2).int()\n",
    "        log_rewards = self.rewards[num_edges]\n",
    "        return 0.4 * log_rewards.to(self.device)\n",
    "        "
   ]
  },
  {
   "cell_type": "code",
   "execution_count": 48,
   "metadata": {},
   "outputs": [],
   "source": [
    "class GFlowNet(nn.Module): \n",
    "\n",
    "    def __init__(self, forward_policy, backward_policy, log_reward): \n",
    "        super(GFlowNet, self).__init__() \n",
    "        self.forward_policy = forward_policy\n",
    "        self.backward_policy = backward_policy \n",
    "        self.log_reward = log_reward \n",
    "\n",
    "        self.log_partition_function = nn.Parameter(torch.randn((1,)).squeeze(), requires_grad=True) \n",
    "            \n",
    "    def forward(self, batch_state): \n",
    "        # We could implement different losses induced by different balance conditions \n",
    "        return self._trajectory_balance(batch_state) \n",
    "\n",
    "    def _trajectory_balance(self, state): \n",
    "        loss = torch.zeros((state.batch_size,),) \n",
    "\n",
    "        while (state.stopped < 1).any(): \n",
    "            # Sample an action for each batch \n",
    "            actions, forward_log_prob = self.forward_policy(state) \n",
    "            \n",
    "            # Apply the actions; the mask indicates which states are completed \n",
    "            state.apply(actions) \n",
    "            \n",
    "            # Compute the backward transition probabilities \n",
    "            backward_log_prob = self.backward_policy(state, actions) \n",
    "            \n",
    "            # Update the loss \n",
    "            stopped = state.stopped == 1\n",
    "            loss[~stopped] = (forward_log_prob.squeeze() - backward_log_prob.squeeze())[~stopped] \n",
    "\n",
    "        loss = loss + (self.log_partition_function - self.log_reward(state)) \n",
    "        return (loss * loss).mean()\n",
    "\n",
    "    @torch.no_grad()\n",
    "    def sample(self, state):\n",
    "        while (state.stopped < 1).any():\n",
    "            actions, _ = self.forward_policy(state)\n",
    "            state.apply(actions)\n",
    "        return state"
   ]
  },
  {
   "cell_type": "code",
   "execution_count": 49,
   "metadata": {},
   "outputs": [
    {
     "name": "stderr",
     "output_type": "stream",
     "text": [
      "100%|██████████| 800/800 [00:53<00:00, 14.86it/s, loss=0.201] \n"
     ]
    }
   ],
   "source": [
    "num_nodes = 10 \n",
    "max_edges = 10 \n",
    "\n",
    "log_reward = LogReward(num_nodes, max_edges)\n",
    "forward_policy = ForwardPolicy(warehouse_size=num_nodes, hidden_dim=64)\n",
    "backward_policy = BackwardPolicy()\n",
    "gflownet = GFlowNet(forward_policy, backward_policy, log_reward)\n",
    "\n",
    "optimizer = torch.optim.Adam([\n",
    "    # We must use different learning rates to ensure convergence\n",
    "    {'params': gflownet.forward_policy.parameters(), 'lr': 1e-3}, \n",
    "    {'params': gflownet.log_partition_function, 'lr': 1e-1} \n",
    "]) \n",
    "\n",
    "epochs = 800\n",
    "batch_size = 256 \n",
    "losses = []\n",
    "\n",
    "for epoch in (pbar := trange(epochs)): \n",
    "    optimizer.zero_grad() \n",
    "    env = Graph(max_edges=max_edges, warehouse_size=num_nodes, batch_size=batch_size) \n",
    "    loss = gflownet(env) \n",
    "    losses.append(loss.item())\n",
    "    loss.backward() \n",
    "    optimizer.step() \n",
    "    pbar.set_postfix(loss=loss.item())\n"
   ]
  },
  {
   "cell_type": "code",
   "execution_count": 50,
   "metadata": {},
   "outputs": [
    {
     "data": {
      "text/plain": [
       "[<matplotlib.lines.Line2D at 0x2afa08350>]"
      ]
     },
     "execution_count": 50,
     "metadata": {},
     "output_type": "execute_result"
    },
    {
     "data": {
      "image/png": "[encoded data removed]",
      "text/plain": [
       "<Figure size 640x480 with 1 Axes>"
      ]
     },
     "metadata": {},
     "output_type": "display_data"
    }
   ],
   "source": [
    "# plot the loss\n",
    "plt.plot(losses)"
   ]
  },
  {
   "cell_type": "code",
   "execution_count": 51,
   "metadata": {},
   "outputs": [
    {
     "name": "stderr",
     "output_type": "stream",
     "text": [
      "100%|██████████| 20/20 [00:01<00:00, 15.91it/s]\n"
     ]
    },
    {
     "data": {
      "text/plain": [
       "torch.Size([5120, 10, 10])"
      ]
     },
     "execution_count": 51,
     "metadata": {},
     "output_type": "execute_result"
    }
   ],
   "source": [
    "gflownet.eval() \n",
    "samples = list() \n",
    "rewards = list() \n",
    "for _ in trange(int(20)): \n",
    "    # Sample from the learned distribution \n",
    "    env = Graph(max_edges, num_nodes, batch_size) \n",
    "    env = gflownet.sample(env)\n",
    "    samples.append(env.S) \n",
    "    rewards.append(log_reward(env)) \n",
    "\n",
    "samples = torch.cat(samples).cpu()  # Use torch.cat instead of torch.vstack\n",
    "rewards = torch.cat(rewards).cpu()  # Use torch.cat instead of torch.hstack\n",
    "samples.shape"
   ]
  },
  {
   "cell_type": "code",
   "execution_count": 52,
   "metadata": {},
   "outputs": [
    {
     "data": {
      "text/plain": [
       "Text(0, 0.5, 'Frequency')"
      ]
     },
     "execution_count": 52,
     "metadata": {},
     "output_type": "execute_result"
    },
    {
     "data": {
      "image/png": "[encoded data removed]",
      "text/plain": [
       "<Figure size 640x480 with 1 Axes>"
      ]
     },
     "metadata": {},
     "output_type": "display_data"
    }
   ],
   "source": [
    "samples_int = samples.int()\n",
    "samples_np = samples_int.numpy()\n",
    "plt.hist(samples_np.sum(axis=(1, 2)) / 2, bins=range(num_nodes + 1))\n",
    "plt.xlabel('Number of edges')\n",
    "plt.ylabel('Frequency')"
   ]
  },
  {
   "cell_type": "code",
   "execution_count": null,
   "metadata": {},
   "outputs": [],
   "source": []
  }
 ],
 "metadata": {
  "kernelspec": {
   "display_name": "torch",
   "language": "python",
   "name": "python3"
  },
  "language_info": {
   "codemirror_mode": {
    "name": "ipython",
    "version": 3
   },
   "file_extension": ".py",
   "mimetype": "text/x-python",
   "name": "python",
   "nbconvert_exporter": "python",
   "pygments_lexer": "ipython3",
   "version": "3.12.2"
  },
  "orig_nbformat": 4
 },
 "nbformat": 4,
 "nbformat_minor": 2
}
