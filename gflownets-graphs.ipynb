{
 "cells": [
  {
   "cell_type": "code",
   "execution_count": 332,
   "metadata": {},
   "outputs": [],
   "source": [
    "import numpy as np \n",
    "import torch \n",
    "import torch.nn as nn \n",
    "import networkx as nx\n",
    "import matplotlib.pyplot as plt\n",
    "import pandas as pd \n",
    "from tqdm import trange \n",
    "from scipy.sparse.csgraph import connected_components"
   ]
  },
  {
   "cell_type": "code",
   "execution_count": 333,
   "metadata": {},
   "outputs": [],
   "source": [
    "device = 'cuda' if torch.cuda.is_available() else 'cpu' \n",
    "torch.set_default_device(device) \n",
    "torch.set_default_dtype(torch.float64) # Numerical stability "
   ]
  },
  {
   "cell_type": "code",
   "execution_count": 361,
   "metadata": {},
   "outputs": [],
   "source": [
    "class Graph: \n",
    "    \n",
    "    def __init__(self, max_edges, warehouse_size, batch_size): \n",
    "        self.S = torch.zeros((batch_size, warehouse_size, warehouse_size)) # adjacency matrix (batch_size, n, n)\n",
    "        self.batch_size = batch_size \n",
    "        self.batch_ids = torch.arange(self.batch_size) \n",
    "        self.max_edges = max_edges # Maximum number of edges in the graph\n",
    "        self.stopped = torch.zeros((self.batch_size,)) # Whether the generative process is finished \n",
    "        self.global_stop = False  # Global stopping flag\n",
    "        \n",
    "\n",
    "    @torch.no_grad() \n",
    "    def apply(self, indices, stop_action): \n",
    "        rows, cols = indices[:, 0], indices[:, 1]\n",
    "        for i in range(self.batch_size):\n",
    "            if not self.stopped[i]:\n",
    "                if stop_action[i]:  # Handle stop action\n",
    "                    self.stopped[i] = 1\n",
    "\n",
    "                if not (rows[i] == cols[i]) and self.stopped[i] == 0:\n",
    "                    self.S[i, rows[i], cols[i]] = 1\n",
    "                    self.S[i, cols[i], rows[i]] = 1\n",
    "\n",
    "                # Stop adding edges if the maximum number is reached\n",
    "                if (self.S[i].sum())/2 >= self.max_edges:\n",
    "                    self.stopped[i] = 1\n",
    "        \n",
    "        # self.global_stop = self.stopped.all()\n",
    "        # if self.global_stop:\n",
    "        #     print(\"Global stop\")\n",
    "        \n",
    "        return torch.tensor([self.global_stop] * self.batch_size)"
   ]
  },
  {
   "cell_type": "code",
   "execution_count": 362,
   "metadata": {},
   "outputs": [],
   "source": [
    "class ForwardPolicy(nn.Module): \n",
    "    masked_value = -1e5 # To mask unwanted actions (e.g., adding an edge twice)  \n",
    "    eps = .3 # For off-policy exploration \n",
    "\n",
    "    def __init__(self, warehouse_size, hidden_dim):\n",
    "        super(ForwardPolicy, self).__init__() \n",
    "        self.warehouse_size = warehouse_size \n",
    "        self.mlp = nn.Sequential(\n",
    "            nn.Linear((warehouse_size) * (warehouse_size), hidden_dim), nn.LeakyReLU(), \n",
    "            nn.Linear(hidden_dim, hidden_dim), nn.LeakyReLU(), \n",
    "            nn.Linear(hidden_dim, (warehouse_size) *(warehouse_size) + 1))  # +1 for stop action\n",
    "    \n",
    "    def forward(self, state: Graph):\n",
    "        S = state.S.clone().view(state.batch_size, -1) \n",
    "        rep = self.mlp(S) \n",
    "        # Mask the already added values \n",
    "        rep[:, :-1] = (1 - S) * rep[:, :-1] + S * self.masked_value\n",
    "        policy = torch.softmax(rep, dim=-1)\n",
    "\n",
    "        # Sample actions from an exploratory policy \n",
    "        eps = 0. if not self.training else self.eps # off-policy only during training \n",
    "        unf_policy = (1 - S) / (1 - S).sum(dim=1, keepdims=True)  # edge policy\n",
    "        unf_policy = torch.cat([unf_policy, torch.zeros((state.batch_size, 1))], dim=1) # stop action policy\n",
    "        exp_policy = policy * (1 - eps) + unf_policy * eps  # exploratory policy\n",
    "        actions = torch.multinomial(exp_policy, num_samples=1, replacement=True)\n",
    "        actions = actions.squeeze() \n",
    "        \n",
    "        # convert flat index back to 2D index and handle stop action\n",
    "        stop_action = actions == (self.warehouse_size * self.warehouse_size)\n",
    "        actions_2d = torch.stack([actions // (self.warehouse_size), actions % (self.warehouse_size)], dim=1)\n",
    "        \n",
    "        return actions_2d, stop_action, torch.log(policy[state.batch_ids, actions])\n",
    "\n",
    "class BackwardPolicy(nn.Module): \n",
    "\n",
    "    def forward(self, state, actions): \n",
    "        S = state.S.clone().view(state.batch_size, -1)\n",
    "        # The backward policy is fixed as uniform \n",
    "        return - torch.log(S.sum(dim=1)) "
   ]
  },
  {
   "cell_type": "code",
   "execution_count": 363,
   "metadata": {},
   "outputs": [],
   "source": [
    "class LogReward(nn.Module):\n",
    "    def __init__(self, warehouse_size, max_edges, seed=42, device='cpu'):\n",
    "        super(LogReward, self).__init__()\n",
    "        self.device = device\n",
    "        self.max_edges = max_edges\n",
    "        self.rewards = torch.log(torch.arange(1, max_edges + 1, device=self.device).float())\n",
    "\n",
    "    @torch.no_grad()\n",
    "    def forward(self, state):\n",
    "        S = state.S.clone()\n",
    "        num_edges = (S.sum(dim=(1, 2)) / 2).int()\n",
    "        log_rewards = self.rewards[num_edges - 1]\n",
    "        return log_rewards.to(self.device)\n"
   ]
  },
  {
   "cell_type": "code",
   "execution_count": 364,
   "metadata": {},
   "outputs": [],
   "source": [
    "class GFlowNet(nn.Module): \n",
    "\n",
    "    def __init__(self, forward_policy, backward_policy, log_reward): \n",
    "        super(GFlowNet, self).__init__() \n",
    "        self.forward_policy = forward_policy\n",
    "        self.backward_policy = backward_policy \n",
    "        self.log_reward = log_reward \n",
    "\n",
    "        self.log_partition_function = nn.Parameter(torch.randn((1,)).squeeze(), requires_grad=True) \n",
    "            \n",
    "    def forward(self, batch_state): \n",
    "        # We could implement different losses induced by different balance conditions \n",
    "        return self._trajectory_balance(batch_state) \n",
    "\n",
    "    def _trajectory_balance(self, state): \n",
    "        loss = torch.zeros((state.batch_size,), requires_grad=True) \n",
    "\n",
    "        while (state.stopped < 1).any(): \n",
    "            # Sample an action for each batch \n",
    "            actions, stop_action, forward_log_prob = self.forward_policy(state) \n",
    "            \n",
    "            # Apply the actions; the mask indicates which states are completed \n",
    "            mask = state.apply(actions, stop_action) \n",
    "            \n",
    "            # Compute the backward transition probabilities \n",
    "            backward_log_prob = self.backward_policy(state, actions) \n",
    "            \n",
    "            # Update the loss \n",
    "            loss = loss + torch.where(mask, (forward_log_prob.squeeze() - backward_log_prob.squeeze()), 0.) \n",
    "\n",
    "        loss = loss + (self.log_partition_function - self.log_reward(state)) \n",
    "        return (loss * loss).mean()\n",
    "\n",
    "    @torch.no_grad()\n",
    "    def sample(self, state):\n",
    "        while (state.stopped < 1).any():\n",
    "            actions, stop_action, _ = self.forward_policy(state)\n",
    "            state.apply(actions, stop_action)\n",
    "        return state\n"
   ]
  },
  {
   "cell_type": "code",
   "execution_count": 365,
   "metadata": {},
   "outputs": [
    {
     "name": "stderr",
     "output_type": "stream",
     "text": [
      "100%|██████████| 100/100 [00:10<00:00,  9.11it/s, loss=0.0594]\n"
     ]
    }
   ],
   "source": [
    "warehouse_size = 10\n",
    "max_edges = 10\n",
    "\n",
    "log_reward = LogReward(warehouse_size, max_edges)\n",
    "forward_policy = ForwardPolicy(warehouse_size=warehouse_size, hidden_dim=64)\n",
    "backward_policy = BackwardPolicy()\n",
    "gflownet = GFlowNet(forward_policy, backward_policy, log_reward)\n",
    "\n",
    "optimizer = torch.optim.AdamW([\n",
    "    # We must use different learning rates to ensure convergence\n",
    "    {'params': gflownet.forward_policy.parameters(), 'lr': 1e-3}, \n",
    "    {'params': gflownet.log_partition_function, 'lr': 1e-1} \n",
    "]) \n",
    "\n",
    "epochs = 100\n",
    "batch_size = 256 \n",
    "losses = []\n",
    "\n",
    "for epoch in (pbar := trange(epochs)): \n",
    "    optimizer.zero_grad() \n",
    "    env = Graph(max_edges=max_edges, warehouse_size=warehouse_size, batch_size=batch_size) \n",
    "    loss = gflownet(env) \n",
    "    losses.append(loss.item())\n",
    "    loss.backward() \n",
    "    optimizer.step() \n",
    "    pbar.set_postfix(loss=loss.item())\n"
   ]
  },
  {
   "cell_type": "code",
   "execution_count": 366,
   "metadata": {},
   "outputs": [
    {
     "data": {
      "text/plain": [
       "[<matplotlib.lines.Line2D at 0x158cca0c0>]"
      ]
     },
     "execution_count": 366,
     "metadata": {},
     "output_type": "execute_result"
    },
    {
     "data": {
      "image/png": "[encoded data removed]",
      "text/plain": [
       "<Figure size 640x480 with 1 Axes>"
      ]
     },
     "metadata": {},
     "output_type": "display_data"
    }
   ],
   "source": [
    "# plot the loss\n",
    "plt.plot(losses)"
   ]
  },
  {
   "cell_type": "code",
   "execution_count": 358,
   "metadata": {},
   "outputs": [
    {
     "name": "stderr",
     "output_type": "stream",
     "text": [
      "100%|██████████| 5/5 [00:00<00:00,  9.97it/s]\n"
     ]
    },
    {
     "data": {
      "text/plain": [
       "torch.Size([1280, 10, 10])"
      ]
     },
     "execution_count": 358,
     "metadata": {},
     "output_type": "execute_result"
    }
   ],
   "source": [
    "gflownet.eval() \n",
    "samples = list() \n",
    "rewards = list() \n",
    "for _ in trange(int(5)): \n",
    "    # Sample from the learned distribution \n",
    "    env = Graph(max_edges, warehouse_size, batch_size) \n",
    "    env = gflownet.sample(env)\n",
    "    samples.append(env.S) \n",
    "    rewards.append(log_reward(env)) \n",
    "\n",
    "samples = torch.cat(samples).cpu()  # Use torch.cat instead of torch.vstack\n",
    "rewards = torch.cat(rewards).cpu()  # Use torch.cat instead of torch.hstack\n",
    "samples.shape"
   ]
  },
  {
   "cell_type": "code",
   "execution_count": 359,
   "metadata": {},
   "outputs": [
    {
     "data": {
      "image/png": "[encoded data removed]",
      "text/plain": [
       "<Figure size 500x500 with 1 Axes>"
      ]
     },
     "metadata": {},
     "output_type": "display_data"
    }
   ],
   "source": [
    "samples_int = samples.int()\n",
    "samples_np = samples_int.numpy()\n",
    "\n",
    "G = nx.from_numpy_array(samples_np[1], create_using=nx.DiGraph)\n",
    "plt.figure(figsize=(5, 5))\n",
    "# draw directed graph\n",
    "nx.draw(G, with_labels=True, node_size=200) \n",
    "plt.show()"
   ]
  },
  {
   "cell_type": "code",
   "execution_count": 360,
   "metadata": {},
   "outputs": [
    {
     "data": {
      "text/plain": [
       "Text(0, 0.5, 'Frequency')"
      ]
     },
     "execution_count": 360,
     "metadata": {},
     "output_type": "execute_result"
    },
    {
     "data": {
      "image/png": "[encoded data removed]",
      "text/plain": [
       "<Figure size 640x480 with 1 Axes>"
      ]
     },
     "metadata": {},
     "output_type": "display_data"
    }
   ],
   "source": [
    "plt.hist(samples_np.sum(axis=(1, 2)) / 2, bins=range(warehouse_size + 1))\n",
    "plt.xlabel('Number of edges')\n",
    "plt.ylabel('Frequency')"
   ]
  },
  {
   "cell_type": "code",
   "execution_count": 327,
   "metadata": {},
   "outputs": [
    {
     "data": {
      "text/plain": [
       "(array([17., 21., 17., 16., 12., 14., 10., 11., 21.,  0.]),\n",
       " array([ 0.,  1.,  2.,  3.,  4.,  5.,  6.,  7.,  8.,  9., 10.]),\n",
       " <BarContainer object of 10 artists>)"
      ]
     },
     "execution_count": 327,
     "metadata": {},
     "output_type": "execute_result"
    },
    {
     "data": {
      "image/png": "[encoded data removed]",
      "text/plain": [
       "<Figure size 640x480 with 1 Axes>"
      ]
     },
     "metadata": {},
     "output_type": "display_data"
    }
   ],
   "source": [
    "# remove samples with 9 edges\n",
    "samples = samples[(samples_np.sum(axis=(1, 2)) / 2) < 9]\n",
    "# plot histogram of these samples\n",
    "plt.hist(samples.sum(axis=(1, 2)) / 2, bins=range(warehouse_size + 1))\n"
   ]
  },
  {
   "cell_type": "code",
   "execution_count": null,
   "metadata": {},
   "outputs": [],
   "source": []
  },
  {
   "cell_type": "code",
   "execution_count": null,
   "metadata": {},
   "outputs": [],
   "source": []
  }
 ],
 "metadata": {
  "kernelspec": {
   "display_name": "torch",
   "language": "python",
   "name": "python3"
  },
  "language_info": {
   "codemirror_mode": {
    "name": "ipython",
    "version": 3
   },
   "file_extension": ".py",
   "mimetype": "text/x-python",
   "name": "python",
   "nbconvert_exporter": "python",
   "pygments_lexer": "ipython3",
   "version": "3.12.2"
  },
  "orig_nbformat": 4
 },
 "nbformat": 4,
 "nbformat_minor": 2
}
